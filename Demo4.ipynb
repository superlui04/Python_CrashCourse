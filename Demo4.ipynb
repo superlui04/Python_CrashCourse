{
  "cells": [
    {
      "cell_type": "markdown",
      "metadata": {
        "id": "view-in-github",
        "colab_type": "text"
      },
      "source": [
        "<a href=\"https://colab.research.google.com/github/superlui04/Python_CrashCourse/blob/main/Demo4.ipynb\" target=\"_parent\"><img src=\"https://colab.research.google.com/assets/colab-badge.svg\" alt=\"Open In Colab\"/></a>"
      ]
    },
    {
      "cell_type": "markdown",
      "id": "cfd3cecb",
      "metadata": {
        "id": "cfd3cecb"
      },
      "source": [
        "# Modules in Python"
      ]
    },
    {
      "cell_type": "code",
      "execution_count": null,
      "id": "9bb9977f",
      "metadata": {
        "id": "9bb9977f",
        "outputId": "b63d01a9-aa20-4d74-cf12-4683a60f0243"
      },
      "outputs": [
        {
          "name": "stdout",
          "output_type": "stream",
          "text": [
            "1\n"
          ]
        }
      ],
      "source": [
        "import calculation\n",
        "\n",
        "a=9\n",
        "b=8\n",
        "\n",
        "c=calculation.sub(a,b)\n",
        "print(c)"
      ]
    },
    {
      "cell_type": "code",
      "execution_count": null,
      "id": "29bd8016",
      "metadata": {
        "id": "29bd8016",
        "outputId": "d9ceee92-741f-4222-a707-f98b296fdfd4"
      },
      "outputs": [
        {
          "name": "stdout",
          "output_type": "stream",
          "text": [
            "27\n"
          ]
        }
      ],
      "source": [
        "from calculation import*\n",
        "a=10\n",
        "b=17\n",
        "c=add(a,b)\n",
        "print(c)"
      ]
    },
    {
      "cell_type": "markdown",
      "id": "4d298089",
      "metadata": {
        "id": "4d298089"
      },
      "source": [
        "# dir() Function"
      ]
    },
    {
      "cell_type": "code",
      "execution_count": null,
      "id": "df61de34",
      "metadata": {
        "id": "df61de34",
        "outputId": "a0873e5c-f6a7-4ad6-df7a-5673b597dcf8"
      },
      "outputs": [
        {
          "data": {
            "text/plain": [
              "['__builtins__',\n",
              " '__cached__',\n",
              " '__doc__',\n",
              " '__file__',\n",
              " '__loader__',\n",
              " '__name__',\n",
              " '__package__',\n",
              " '__spec__',\n",
              " 'add',\n",
              " 'dev',\n",
              " 'mul',\n",
              " 'sub']"
            ]
          },
          "execution_count": 3,
          "metadata": {},
          "output_type": "execute_result"
        }
      ],
      "source": [
        "import calculation\n",
        "dir(calculation)"
      ]
    },
    {
      "cell_type": "code",
      "execution_count": null,
      "id": "abb3e94a",
      "metadata": {
        "id": "abb3e94a",
        "outputId": "b6568c9f-49b0-4378-89b6-b7e59806138e"
      },
      "outputs": [
        {
          "data": {
            "text/plain": [
              "['ArithmeticError',\n",
              " 'AssertionError',\n",
              " 'AttributeError',\n",
              " 'BaseException',\n",
              " 'BlockingIOError',\n",
              " 'BrokenPipeError',\n",
              " 'BufferError',\n",
              " 'BytesWarning',\n",
              " 'ChildProcessError',\n",
              " 'ConnectionAbortedError',\n",
              " 'ConnectionError',\n",
              " 'ConnectionRefusedError',\n",
              " 'ConnectionResetError',\n",
              " 'DeprecationWarning',\n",
              " 'EOFError',\n",
              " 'Ellipsis',\n",
              " 'EnvironmentError',\n",
              " 'Exception',\n",
              " 'False',\n",
              " 'FileExistsError',\n",
              " 'FileNotFoundError',\n",
              " 'FloatingPointError',\n",
              " 'FutureWarning',\n",
              " 'GeneratorExit',\n",
              " 'IOError',\n",
              " 'ImportError',\n",
              " 'ImportWarning',\n",
              " 'IndentationError',\n",
              " 'IndexError',\n",
              " 'InterruptedError',\n",
              " 'IsADirectoryError',\n",
              " 'KeyError',\n",
              " 'KeyboardInterrupt',\n",
              " 'LookupError',\n",
              " 'MemoryError',\n",
              " 'ModuleNotFoundError',\n",
              " 'NameError',\n",
              " 'None',\n",
              " 'NotADirectoryError',\n",
              " 'NotImplemented',\n",
              " 'NotImplementedError',\n",
              " 'OSError',\n",
              " 'OverflowError',\n",
              " 'PendingDeprecationWarning',\n",
              " 'PermissionError',\n",
              " 'ProcessLookupError',\n",
              " 'RecursionError',\n",
              " 'ReferenceError',\n",
              " 'ResourceWarning',\n",
              " 'RuntimeError',\n",
              " 'RuntimeWarning',\n",
              " 'StopAsyncIteration',\n",
              " 'StopIteration',\n",
              " 'SyntaxError',\n",
              " 'SyntaxWarning',\n",
              " 'SystemError',\n",
              " 'SystemExit',\n",
              " 'TabError',\n",
              " 'TimeoutError',\n",
              " 'True',\n",
              " 'TypeError',\n",
              " 'UnboundLocalError',\n",
              " 'UnicodeDecodeError',\n",
              " 'UnicodeEncodeError',\n",
              " 'UnicodeError',\n",
              " 'UnicodeTranslateError',\n",
              " 'UnicodeWarning',\n",
              " 'UserWarning',\n",
              " 'ValueError',\n",
              " 'Warning',\n",
              " 'ZeroDivisionError',\n",
              " '__IPYTHON__',\n",
              " '__build_class__',\n",
              " '__debug__',\n",
              " '__doc__',\n",
              " '__import__',\n",
              " '__loader__',\n",
              " '__name__',\n",
              " '__package__',\n",
              " '__spec__',\n",
              " 'abs',\n",
              " 'all',\n",
              " 'any',\n",
              " 'ascii',\n",
              " 'bin',\n",
              " 'bool',\n",
              " 'breakpoint',\n",
              " 'bytearray',\n",
              " 'bytes',\n",
              " 'callable',\n",
              " 'chr',\n",
              " 'classmethod',\n",
              " 'compile',\n",
              " 'complex',\n",
              " 'copyright',\n",
              " 'credits',\n",
              " 'delattr',\n",
              " 'dict',\n",
              " 'dir',\n",
              " 'display',\n",
              " 'divmod',\n",
              " 'enumerate',\n",
              " 'eval',\n",
              " 'exec',\n",
              " 'execfile',\n",
              " 'filter',\n",
              " 'float',\n",
              " 'format',\n",
              " 'frozenset',\n",
              " 'get_ipython',\n",
              " 'getattr',\n",
              " 'globals',\n",
              " 'hasattr',\n",
              " 'hash',\n",
              " 'help',\n",
              " 'hex',\n",
              " 'id',\n",
              " 'input',\n",
              " 'int',\n",
              " 'isinstance',\n",
              " 'issubclass',\n",
              " 'iter',\n",
              " 'len',\n",
              " 'license',\n",
              " 'list',\n",
              " 'locals',\n",
              " 'map',\n",
              " 'max',\n",
              " 'memoryview',\n",
              " 'min',\n",
              " 'next',\n",
              " 'object',\n",
              " 'oct',\n",
              " 'open',\n",
              " 'ord',\n",
              " 'pow',\n",
              " 'print',\n",
              " 'property',\n",
              " 'range',\n",
              " 'repr',\n",
              " 'reversed',\n",
              " 'round',\n",
              " 'runfile',\n",
              " 'set',\n",
              " 'setattr',\n",
              " 'slice',\n",
              " 'sorted',\n",
              " 'staticmethod',\n",
              " 'str',\n",
              " 'sum',\n",
              " 'super',\n",
              " 'tuple',\n",
              " 'type',\n",
              " 'vars',\n",
              " 'zip']"
            ]
          },
          "execution_count": 4,
          "metadata": {},
          "output_type": "execute_result"
        }
      ],
      "source": [
        "import builtins\n",
        "dir(builtins)"
      ]
    },
    {
      "cell_type": "markdown",
      "id": "eb41e20e",
      "metadata": {
        "id": "eb41e20e"
      },
      "source": [
        "# Try and Catch"
      ]
    },
    {
      "cell_type": "markdown",
      "id": "fa82ee16",
      "metadata": {
        "id": "fa82ee16"
      },
      "source": [
        "<B> the TRY block lets you test a block of code for errors, while EXCEPT block lets you handle the error, and FINALLY block lets you execute code, regardless of the result of the try-and except blocks <B>"
      ]
    },
    {
      "cell_type": "code",
      "execution_count": null,
      "id": "360f5d8a",
      "metadata": {
        "id": "360f5d8a",
        "outputId": "b4c9bdd5-3647-408a-f9d8-3a826611a3a2"
      },
      "outputs": [
        {
          "ename": "ZeroDivisionError",
          "evalue": "division by zero",
          "output_type": "error",
          "traceback": [
            "\u001b[0;31m---------------------------------------------------------------------------\u001b[0m",
            "\u001b[0;31mZeroDivisionError\u001b[0m                         Traceback (most recent call last)",
            "Input \u001b[0;32mIn [5]\u001b[0m, in \u001b[0;36m<cell line: 3>\u001b[0;34m()\u001b[0m\n\u001b[1;32m      1\u001b[0m a\u001b[38;5;241m=\u001b[39m\u001b[38;5;241m5\u001b[39m\n\u001b[1;32m      2\u001b[0m b\u001b[38;5;241m=\u001b[39m\u001b[38;5;241m0\u001b[39m\n\u001b[0;32m----> 3\u001b[0m \u001b[38;5;28mprint\u001b[39m (\u001b[43ma\u001b[49m\u001b[38;5;241;43m/\u001b[39;49m\u001b[43mb\u001b[49m)\n\u001b[1;32m      4\u001b[0m \u001b[38;5;28mprint\u001b[39m (bye)\n",
            "\u001b[0;31mZeroDivisionError\u001b[0m: division by zero"
          ]
        }
      ],
      "source": [
        "a=5\n",
        "b=0\n",
        "print (a/b)\n",
        "print (bye)"
      ]
    },
    {
      "cell_type": "code",
      "execution_count": null,
      "id": "d69a9031",
      "metadata": {
        "id": "d69a9031",
        "outputId": "9bdcd936-88bb-4113-dd32-eaa3742ba634"
      },
      "outputs": [
        {
          "name": "stdout",
          "output_type": "stream",
          "text": [
            "5\n",
            "You can't divide a number by zero\n",
            "bye\n"
          ]
        }
      ],
      "source": [
        "a=5\n",
        "b=0\n",
        "try:\n",
        "    print(a+b)\n",
        "    print(a/b)\n",
        "\n",
        "except Exception:\n",
        "    print(\"You can't divide a number by zero\")\n",
        "    print(\"bye\")"
      ]
    },
    {
      "cell_type": "code",
      "execution_count": null,
      "id": "e2b91e0c",
      "metadata": {
        "id": "e2b91e0c",
        "outputId": "2f5e3381-36a2-46f3-cf3d-7b20a343b8e3"
      },
      "outputs": [
        {
          "name": "stdout",
          "output_type": "stream",
          "text": [
            "resource open\n",
            "You can't divide a number by zero \n",
            " the original error is: division by zero\n",
            "this is my final block\n",
            "resource closed\n"
          ]
        }
      ],
      "source": [
        "a=5\n",
        "b=0\n",
        "try:\n",
        "    print(\"resource open\")\n",
        "    print(a/b)\n",
        "    \n",
        "except Exception as e:\n",
        "     print(\"You can't divide a number by zero\",'\\n',\"the original error is:\",e)\n",
        "\n",
        "finally:\n",
        "    print(\"this is my final block\")\n",
        "    print(\"resource closed\")"
      ]
    },
    {
      "cell_type": "code",
      "execution_count": null,
      "id": "038f07ad",
      "metadata": {
        "id": "038f07ad"
      },
      "outputs": [],
      "source": [
        "def askint():\n",
        "    try:\n",
        "        val=int(input(\"Please enter an integer:\"))\n",
        "    except:\n",
        "        print(\"you did not enter an integer\")\n",
        "    finally:\n",
        "        print(\"Finally, I executed\")\n",
        "    print(val)"
      ]
    },
    {
      "cell_type": "code",
      "execution_count": null,
      "id": "d891815a",
      "metadata": {
        "id": "d891815a",
        "outputId": "ecabb1cd-6e38-4d18-d666-0f0db8a79ae1"
      },
      "outputs": [
        {
          "name": "stdout",
          "output_type": "stream",
          "text": [
            "Please enter an integer:j\n",
            "you did not enter an integer\n",
            "Finally, I executed\n"
          ]
        },
        {
          "ename": "UnboundLocalError",
          "evalue": "local variable 'val' referenced before assignment",
          "output_type": "error",
          "traceback": [
            "\u001b[0;31m---------------------------------------------------------------------------\u001b[0m",
            "\u001b[0;31mUnboundLocalError\u001b[0m                         Traceback (most recent call last)",
            "Input \u001b[0;32mIn [15]\u001b[0m, in \u001b[0;36m<cell line: 1>\u001b[0;34m()\u001b[0m\n\u001b[0;32m----> 1\u001b[0m \u001b[43maskint\u001b[49m\u001b[43m(\u001b[49m\u001b[43m)\u001b[49m\n",
            "Input \u001b[0;32mIn [14]\u001b[0m, in \u001b[0;36maskint\u001b[0;34m()\u001b[0m\n\u001b[1;32m      6\u001b[0m \u001b[38;5;28;01mfinally\u001b[39;00m:\n\u001b[1;32m      7\u001b[0m     \u001b[38;5;28mprint\u001b[39m(\u001b[38;5;124m\"\u001b[39m\u001b[38;5;124mFinally, I executed\u001b[39m\u001b[38;5;124m\"\u001b[39m)\n\u001b[0;32m----> 8\u001b[0m \u001b[38;5;28mprint\u001b[39m(\u001b[43mval\u001b[49m)\n",
            "\u001b[0;31mUnboundLocalError\u001b[0m: local variable 'val' referenced before assignment"
          ]
        }
      ],
      "source": [
        "askint()"
      ]
    },
    {
      "cell_type": "code",
      "execution_count": null,
      "id": "8c921dcb",
      "metadata": {
        "id": "8c921dcb"
      },
      "outputs": [],
      "source": [
        "def askint():\n",
        "    try:\n",
        "        val=int(input(\"Please enter an integer:\"))\n",
        "    except:\n",
        "        print(\"you did not enter an integer\")\n",
        "        val=int(input(\"Try again:\"))\n",
        "    finally:\n",
        "        print(\"Finally, I executed\")\n",
        "    print(val)\n",
        " "
      ]
    },
    {
      "cell_type": "code",
      "execution_count": null,
      "id": "98897939",
      "metadata": {
        "scrolled": true,
        "id": "98897939",
        "outputId": "cbf27de2-b349-475a-b06f-167714ebdefd"
      },
      "outputs": [
        {
          "name": "stdout",
          "output_type": "stream",
          "text": [
            "Please enter an integer:6\n",
            "Finally, I executed\n",
            "6\n"
          ]
        }
      ],
      "source": [
        "askint()"
      ]
    },
    {
      "cell_type": "code",
      "execution_count": null,
      "id": "3b50ddbc",
      "metadata": {
        "id": "3b50ddbc"
      },
      "outputs": [],
      "source": []
    }
  ],
  "metadata": {
    "kernelspec": {
      "display_name": "Python 3 (ipykernel)",
      "language": "python",
      "name": "python3"
    },
    "language_info": {
      "codemirror_mode": {
        "name": "ipython",
        "version": 3
      },
      "file_extension": ".py",
      "mimetype": "text/x-python",
      "name": "python",
      "nbconvert_exporter": "python",
      "pygments_lexer": "ipython3",
      "version": "3.9.12"
    },
    "colab": {
      "provenance": [],
      "include_colab_link": true
    }
  },
  "nbformat": 4,
  "nbformat_minor": 5
}