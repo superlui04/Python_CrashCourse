{
  "cells": [
    {
      "cell_type": "markdown",
      "metadata": {
        "id": "view-in-github",
        "colab_type": "text"
      },
      "source": [
        "<a href=\"https://colab.research.google.com/github/superlui04/Python_CrashCourse/blob/main/Demo6.ipynb\" target=\"_parent\"><img src=\"https://colab.research.google.com/assets/colab-badge.svg\" alt=\"Open In Colab\"/></a>"
      ]
    },
    {
      "cell_type": "markdown",
      "id": "54d0fd2a",
      "metadata": {
        "id": "54d0fd2a"
      },
      "source": [
        "# Iterations and Generators"
      ]
    },
    {
      "cell_type": "code",
      "execution_count": null,
      "id": "a2abfa67",
      "metadata": {
        "id": "a2abfa67"
      },
      "outputs": [],
      "source": [
        "#Generator function for the cube numbers (power of 3)\n",
        "def gencubes(n):\n",
        "    for num in range(n):\n",
        "        yield num**3"
      ]
    },
    {
      "cell_type": "code",
      "execution_count": null,
      "id": "1f4979a6",
      "metadata": {
        "scrolled": true,
        "id": "1f4979a6",
        "outputId": "5b937a3f-10c3-443f-9ccc-a207b7778045"
      },
      "outputs": [
        {
          "name": "stdout",
          "output_type": "stream",
          "text": [
            "0\n",
            "1\n",
            "8\n",
            "27\n",
            "64\n",
            "125\n",
            "216\n",
            "343\n",
            "512\n",
            "729\n"
          ]
        }
      ],
      "source": [
        "    for x in gencubes(10):\n",
        "        print(x)"
      ]
    },
    {
      "cell_type": "code",
      "execution_count": null,
      "id": "4c0066bf",
      "metadata": {
        "id": "4c0066bf"
      },
      "outputs": [],
      "source": [
        "def genfibon(n):\n",
        "    \"\"\"\n",
        "    Generate a fibonacci sequence up to n\n",
        "    \"\"\"\n",
        "    a=0\n",
        "    b=1\n",
        "    for i in range(n):\n",
        "        yield a\n",
        "        a,b=b,a+b\n"
      ]
    },
    {
      "cell_type": "code",
      "execution_count": null,
      "id": "2c8f6683",
      "metadata": {
        "scrolled": false,
        "id": "2c8f6683",
        "outputId": "5b9fd1e0-1300-4119-a34b-bc4f42622a09"
      },
      "outputs": [
        {
          "name": "stdout",
          "output_type": "stream",
          "text": [
            "0\n",
            "1\n",
            "1\n",
            "2\n",
            "3\n",
            "5\n",
            "8\n",
            "13\n",
            "21\n",
            "34\n"
          ]
        }
      ],
      "source": [
        "for num in genfibon(10):\n",
        "    print(num)"
      ]
    },
    {
      "cell_type": "code",
      "execution_count": null,
      "id": "67ee266f",
      "metadata": {
        "id": "67ee266f"
      },
      "outputs": [],
      "source": [
        "def fibon(n):\n",
        "    a=0\n",
        "    b=1\n",
        "    output=[]\n",
        "    \n",
        "    for i in range(n):\n",
        "        output.append(a)\n",
        "        a,b=b, a+b\n",
        "        \n",
        "    return output"
      ]
    },
    {
      "cell_type": "code",
      "execution_count": null,
      "id": "f8da9db5",
      "metadata": {
        "id": "f8da9db5",
        "outputId": "38b78dba-fe78-4a65-8b5d-a8de19824336"
      },
      "outputs": [
        {
          "data": {
            "text/plain": [
              "[0, 1, 1, 2, 3, 5, 8, 13, 21, 34]"
            ]
          },
          "execution_count": 22,
          "metadata": {},
          "output_type": "execute_result"
        }
      ],
      "source": [
        "fibon(10)"
      ]
    },
    {
      "cell_type": "markdown",
      "id": "df845286",
      "metadata": {
        "id": "df845286"
      },
      "source": [
        "<b> Next() and built-in functions</B>"
      ]
    },
    {
      "cell_type": "code",
      "execution_count": null,
      "id": "54b5abf7",
      "metadata": {
        "id": "54b5abf7"
      },
      "outputs": [],
      "source": [
        "def simple_gen():\n",
        "    for x in range(3):\n",
        "        yield x\n",
        "        "
      ]
    },
    {
      "cell_type": "code",
      "execution_count": null,
      "id": "88a336f7",
      "metadata": {
        "id": "88a336f7"
      },
      "outputs": [],
      "source": [
        "#Assign simple_gen\n",
        "g=simple_gen()\n"
      ]
    },
    {
      "cell_type": "code",
      "execution_count": null,
      "id": "7f59f3cd",
      "metadata": {
        "id": "7f59f3cd",
        "outputId": "9aac9811-7efe-4fb4-8428-627db870b5b4"
      },
      "outputs": [
        {
          "name": "stdout",
          "output_type": "stream",
          "text": [
            "0\n"
          ]
        }
      ],
      "source": [
        "print(next(g))"
      ]
    },
    {
      "cell_type": "code",
      "execution_count": null,
      "id": "97b22f7b",
      "metadata": {
        "id": "97b22f7b",
        "outputId": "10b23abc-cdcf-4a08-9de5-eedd6afb1e26"
      },
      "outputs": [
        {
          "name": "stdout",
          "output_type": "stream",
          "text": [
            "1\n"
          ]
        }
      ],
      "source": [
        "print(next(g))"
      ]
    },
    {
      "cell_type": "code",
      "execution_count": null,
      "id": "5832c838",
      "metadata": {
        "id": "5832c838",
        "outputId": "9d4691ff-51ac-4e9b-81b9-3ace642dc148"
      },
      "outputs": [
        {
          "name": "stdout",
          "output_type": "stream",
          "text": [
            "2\n"
          ]
        }
      ],
      "source": [
        "print(next(g))"
      ]
    },
    {
      "cell_type": "code",
      "execution_count": null,
      "id": "9fc875af",
      "metadata": {
        "id": "9fc875af",
        "outputId": "e84a28e1-303d-4020-d0a1-324bd21c1cd5"
      },
      "outputs": [
        {
          "ename": "StopIteration",
          "evalue": "",
          "output_type": "error",
          "traceback": [
            "\u001b[0;31m---------------------------------------------------------------------------\u001b[0m",
            "\u001b[0;31mStopIteration\u001b[0m                             Traceback (most recent call last)",
            "Input \u001b[0;32mIn [28]\u001b[0m, in \u001b[0;36m<cell line: 1>\u001b[0;34m()\u001b[0m\n\u001b[0;32m----> 1\u001b[0m \u001b[38;5;28mprint\u001b[39m(\u001b[38;5;28;43mnext\u001b[39;49m\u001b[43m(\u001b[49m\u001b[43mg\u001b[49m\u001b[43m)\u001b[49m)\n",
            "\u001b[0;31mStopIteration\u001b[0m: "
          ]
        }
      ],
      "source": [
        "print(next(g))"
      ]
    },
    {
      "cell_type": "code",
      "execution_count": null,
      "id": "d8e735dc",
      "metadata": {
        "id": "d8e735dc",
        "outputId": "4eca4ca0-a6f7-47d5-cbff-edd646883bae"
      },
      "outputs": [
        {
          "name": "stdout",
          "output_type": "stream",
          "text": [
            "h\n",
            "e\n",
            "l\n",
            "l\n",
            "o\n"
          ]
        }
      ],
      "source": [
        "s='hello'\n",
        "\n",
        "#Iterate over string\n",
        "for let in s:\n",
        "    print(let)"
      ]
    },
    {
      "cell_type": "code",
      "execution_count": null,
      "id": "8548ba7a",
      "metadata": {
        "id": "8548ba7a",
        "outputId": "c99d0a23-7fb8-44a3-8824-16de26b56a2e"
      },
      "outputs": [
        {
          "ename": "TypeError",
          "evalue": "'str' object is not an iterator",
          "output_type": "error",
          "traceback": [
            "\u001b[0;31m---------------------------------------------------------------------------\u001b[0m",
            "\u001b[0;31mTypeError\u001b[0m                                 Traceback (most recent call last)",
            "Input \u001b[0;32mIn [30]\u001b[0m, in \u001b[0;36m<cell line: 1>\u001b[0;34m()\u001b[0m\n\u001b[0;32m----> 1\u001b[0m \u001b[38;5;28;43mnext\u001b[39;49m\u001b[43m(\u001b[49m\u001b[43ms\u001b[49m\u001b[43m)\u001b[49m\n",
            "\u001b[0;31mTypeError\u001b[0m: 'str' object is not an iterator"
          ]
        }
      ],
      "source": [
        "next(s)"
      ]
    },
    {
      "cell_type": "code",
      "execution_count": null,
      "id": "5b7d6500",
      "metadata": {
        "id": "5b7d6500"
      },
      "outputs": [],
      "source": [
        "s_iter=iter(s)"
      ]
    },
    {
      "cell_type": "code",
      "execution_count": null,
      "id": "05d97a7c",
      "metadata": {
        "id": "05d97a7c",
        "outputId": "805c5550-16da-4a13-f676-2821c93e929b"
      },
      "outputs": [
        {
          "data": {
            "text/plain": [
              "'h'"
            ]
          },
          "execution_count": 32,
          "metadata": {},
          "output_type": "execute_result"
        }
      ],
      "source": [
        "next(s_iter)"
      ]
    },
    {
      "cell_type": "code",
      "execution_count": null,
      "id": "85213d57",
      "metadata": {
        "id": "85213d57",
        "outputId": "ba3963cb-b5a6-4054-f4a3-8d396fd81b76"
      },
      "outputs": [
        {
          "data": {
            "text/plain": [
              "'e'"
            ]
          },
          "execution_count": 33,
          "metadata": {},
          "output_type": "execute_result"
        }
      ],
      "source": [
        "next(s_iter)"
      ]
    },
    {
      "cell_type": "code",
      "execution_count": null,
      "id": "98aad7a4",
      "metadata": {
        "id": "98aad7a4",
        "outputId": "e17149f7-4154-4712-fe59-a6e1f59abf16"
      },
      "outputs": [
        {
          "data": {
            "text/plain": [
              "'l'"
            ]
          },
          "execution_count": 34,
          "metadata": {},
          "output_type": "execute_result"
        }
      ],
      "source": [
        "next(s_iter)\n"
      ]
    },
    {
      "cell_type": "code",
      "execution_count": null,
      "id": "6eb4d57a",
      "metadata": {
        "id": "6eb4d57a",
        "outputId": "6257212a-9775-42fa-bd61-3a781665a14b"
      },
      "outputs": [
        {
          "data": {
            "text/plain": [
              "'l'"
            ]
          },
          "execution_count": 35,
          "metadata": {},
          "output_type": "execute_result"
        }
      ],
      "source": [
        "next(s_iter)"
      ]
    },
    {
      "cell_type": "code",
      "execution_count": null,
      "id": "b399938a",
      "metadata": {
        "id": "b399938a",
        "outputId": "ea36b3ba-b6e4-457d-a4da-6b5c11c17271"
      },
      "outputs": [
        {
          "data": {
            "text/plain": [
              "'o'"
            ]
          },
          "execution_count": 36,
          "metadata": {},
          "output_type": "execute_result"
        }
      ],
      "source": [
        "next(s_iter)"
      ]
    },
    {
      "cell_type": "code",
      "execution_count": null,
      "id": "211ff61b",
      "metadata": {
        "id": "211ff61b",
        "outputId": "e1265937-e85b-4dab-9515-dd03b763691f"
      },
      "outputs": [
        {
          "ename": "StopIteration",
          "evalue": "",
          "output_type": "error",
          "traceback": [
            "\u001b[0;31m---------------------------------------------------------------------------\u001b[0m",
            "\u001b[0;31mStopIteration\u001b[0m                             Traceback (most recent call last)",
            "Input \u001b[0;32mIn [37]\u001b[0m, in \u001b[0;36m<cell line: 1>\u001b[0;34m()\u001b[0m\n\u001b[0;32m----> 1\u001b[0m \u001b[38;5;28;43mnext\u001b[39;49m\u001b[43m(\u001b[49m\u001b[43ms_iter\u001b[49m\u001b[43m)\u001b[49m\n",
            "\u001b[0;31mStopIteration\u001b[0m: "
          ]
        }
      ],
      "source": [
        "next(s_iter)"
      ]
    },
    {
      "cell_type": "code",
      "execution_count": null,
      "id": "10099aac",
      "metadata": {
        "id": "10099aac"
      },
      "outputs": [],
      "source": []
    }
  ],
  "metadata": {
    "kernelspec": {
      "display_name": "Python 3 (ipykernel)",
      "language": "python",
      "name": "python3"
    },
    "language_info": {
      "codemirror_mode": {
        "name": "ipython",
        "version": 3
      },
      "file_extension": ".py",
      "mimetype": "text/x-python",
      "name": "python",
      "nbconvert_exporter": "python",
      "pygments_lexer": "ipython3",
      "version": "3.9.12"
    },
    "colab": {
      "provenance": [],
      "include_colab_link": true
    }
  },
  "nbformat": 4,
  "nbformat_minor": 5
}