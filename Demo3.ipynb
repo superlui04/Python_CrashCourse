{
  "cells": [
    {
      "cell_type": "markdown",
      "metadata": {
        "id": "view-in-github",
        "colab_type": "text"
      },
      "source": [
        "<a href=\"https://colab.research.google.com/github/superlui04/Python_CrashCourse/blob/main/Demo3.ipynb\" target=\"_parent\"><img src=\"https://colab.research.google.com/assets/colab-badge.svg\" alt=\"Open In Colab\"/></a>"
      ]
    },
    {
      "cell_type": "markdown",
      "id": "3a7fa901",
      "metadata": {
        "id": "3a7fa901"
      },
      "source": [
        "# Object Oriented Programming in Python"
      ]
    },
    {
      "cell_type": "code",
      "execution_count": null,
      "id": "bfdc7d04",
      "metadata": {
        "id": "bfdc7d04"
      },
      "outputs": [],
      "source": [
        "#simple class creation\n",
        "#format-class classname()\n",
        "\n",
        "class laptop:\n",
        "    pass\n"
      ]
    },
    {
      "cell_type": "code",
      "execution_count": null,
      "id": "e5e2e3be",
      "metadata": {
        "id": "e5e2e3be"
      },
      "outputs": [],
      "source": [
        "class laptop:\n",
        "    \n",
        "    #Initializer/Instance Attribiutes\n",
        "    def __init__(self, model,ram,storage):\n",
        "        self.model=model\n",
        "        self.ram=ram\n",
        "        self.storage=storage\n",
        "    \n",
        "    #defining member functions or methods\n",
        "    def ram_increment (self):\n",
        "        self.ram1=self.ram+1\n",
        "        print(\"increased RAM:\",self.ram1,\"GB\")\n",
        "              \n",
        "    def result(self):\n",
        "        print(\"laptopmodel:\",self.model)\n",
        "        print(\"storage\",self.storage)\n",
        "        print(\"original RAM:\",self.ram)"
      ]
    },
    {
      "cell_type": "code",
      "execution_count": null,
      "id": "3658ee67",
      "metadata": {
        "scrolled": true,
        "id": "3658ee67",
        "outputId": "c5420bd4-4b10-4d6c-8ce1-3f49650eb740"
      },
      "outputs": [
        {
          "name": "stdout",
          "output_type": "stream",
          "text": [
            "type of object1: <class '__main__.laptop'> \n",
            "\n",
            "first instance lenovo result\n",
            "----------------------------------\n",
            "laptopmodel: lenovo\n",
            "storage 1TB\n",
            "original RAM: 16\n",
            "increased RAM: 17 GB\n",
            "\n",
            "\n",
            "type of object1: <class '__main__.laptop'> \n",
            "\n",
            "second instance Acer result\n",
            "----------------------------------\n",
            "laptopmodel: Acer\n",
            "storage 2TB\n",
            "original RAM: 32\n",
            "increased RAM: 33 GB\n",
            "\n",
            "\n"
          ]
        }
      ],
      "source": [
        "#creating first instance Lenovo\n",
        "object1=laptop(\"lenovo\",16,\"1TB\")\n",
        "print(\"type of object1:\",type(object1),'\\n')\n",
        "print(\"first instance lenovo result\")\n",
        "print(\"----------------------------------\")\n",
        "object1.result()\n",
        "object1.ram_increment()\n",
        "\n",
        "print('\\n')\n",
        "\n",
        "\n",
        "#creating second instance Acer\n",
        "object2=laptop(\"Acer\",32,\"2TB\")\n",
        "print(\"type of object1:\",type(object1),'\\n')\n",
        "print(\"second instance Acer result\")\n",
        "print(\"----------------------------------\")\n",
        "object2.result()\n",
        "object2.ram_increment()\n",
        "\n",
        "print('\\n')\n",
        "\n",
        "\n",
        "\n",
        "\n",
        "\n",
        "                    "
      ]
    },
    {
      "cell_type": "code",
      "execution_count": null,
      "id": "73c57176",
      "metadata": {
        "id": "73c57176",
        "outputId": "a556416e-260c-418e-e9d0-c24c8845efff"
      },
      "outputs": [
        {
          "name": "stdout",
          "output_type": "stream",
          "text": [
            "True\n"
          ]
        }
      ],
      "source": [
        "#Is object2 an instance of class laptop?\n",
        "\n",
        "#answer\n",
        "\n",
        "print(isinstance(object2,laptop))\n",
        "\n"
      ]
    },
    {
      "cell_type": "code",
      "execution_count": null,
      "id": "b26ad73a",
      "metadata": {
        "id": "b26ad73a",
        "outputId": "69ffc04e-cd32-4714-b56d-67958f483340"
      },
      "outputs": [
        {
          "ename": "NameError",
          "evalue": "name 'object4' is not defined",
          "output_type": "error",
          "traceback": [
            "\u001b[0;31m---------------------------------------------------------------------------\u001b[0m",
            "\u001b[0;31mNameError\u001b[0m                                 Traceback (most recent call last)",
            "Input \u001b[0;32mIn [13]\u001b[0m, in \u001b[0;36m<cell line: 5>\u001b[0;34m()\u001b[0m\n\u001b[1;32m      1\u001b[0m \u001b[38;5;66;03m#Is object4 an instance of class laptop?\u001b[39;00m\n\u001b[1;32m      2\u001b[0m \n\u001b[1;32m      3\u001b[0m \u001b[38;5;66;03m#answer\u001b[39;00m\n\u001b[0;32m----> 5\u001b[0m \u001b[38;5;28mprint\u001b[39m(\u001b[38;5;28misinstance\u001b[39m(\u001b[43mobject4\u001b[49m,laptop))\n",
            "\u001b[0;31mNameError\u001b[0m: name 'object4' is not defined"
          ]
        }
      ],
      "source": [
        "#Is object4 an instance of class laptop?\n",
        "\n",
        "#answer\n",
        "\n",
        "print(isinstance(object4,laptop))"
      ]
    },
    {
      "cell_type": "code",
      "execution_count": null,
      "id": "835b84d2",
      "metadata": {
        "id": "835b84d2"
      },
      "outputs": [],
      "source": [
        "#Function to determine the highest RAM based on given codes above\n",
        "\n",
        "def get_highest_ram(*args):\n",
        "    return max(args)"
      ]
    },
    {
      "cell_type": "code",
      "execution_count": null,
      "id": "dad7f468",
      "metadata": {
        "id": "dad7f468",
        "outputId": "4a12316b-55e9-4cd4-a584-b46f6ec816c5"
      },
      "outputs": [
        {
          "name": "stdout",
          "output_type": "stream",
          "text": [
            "The highest Random Access Memory among all laptops is 33 GB.\n"
          ]
        }
      ],
      "source": [
        "#Ouput\n",
        "print(\"The highest Random Access Memory among all laptops is {} GB.\".format(get_highest_ram(object1.ram1,object2.ram1)))\n",
        "    "
      ]
    },
    {
      "cell_type": "code",
      "execution_count": null,
      "id": "ff7fc569",
      "metadata": {
        "id": "ff7fc569",
        "outputId": "c639eeb8-7672-4f6a-d7eb-ac39b49b9575"
      },
      "outputs": [
        {
          "name": "stdout",
          "output_type": "stream",
          "text": [
            "(5, 6, 3, 6, 7)\n"
          ]
        }
      ],
      "source": [
        "def show_args(*args):\n",
        "    print(args)\n",
        "show_args(5,6,3,6,7)\n",
        "    \n",
        "    "
      ]
    },
    {
      "cell_type": "code",
      "execution_count": null,
      "id": "f6a4ebaa",
      "metadata": {
        "id": "f6a4ebaa",
        "outputId": "008d76a7-a754-4a51-b76b-9fbe7fef9165"
      },
      "outputs": [
        {
          "ename": "TypeError",
          "evalue": "show_args() got an unexpected keyword argument 'a'",
          "output_type": "error",
          "traceback": [
            "\u001b[0;31m---------------------------------------------------------------------------\u001b[0m",
            "\u001b[0;31mTypeError\u001b[0m                                 Traceback (most recent call last)",
            "Input \u001b[0;32mIn [26]\u001b[0m, in \u001b[0;36m<cell line: 3>\u001b[0;34m()\u001b[0m\n\u001b[1;32m      1\u001b[0m \u001b[38;5;28;01mdef\u001b[39;00m \u001b[38;5;21mshow_args\u001b[39m(\u001b[38;5;241m*\u001b[39margs):\n\u001b[1;32m      2\u001b[0m     \u001b[38;5;28mprint\u001b[39m(args)\n\u001b[0;32m----> 3\u001b[0m \u001b[43mshow_args\u001b[49m\u001b[43m(\u001b[49m\u001b[43ma\u001b[49m\u001b[38;5;241;43m=\u001b[39;49m\u001b[38;5;241;43m5\u001b[39;49m\u001b[43m,\u001b[49m\u001b[43mb\u001b[49m\u001b[38;5;241;43m=\u001b[39;49m\u001b[38;5;241;43m6\u001b[39;49m\u001b[43m)\u001b[49m\n",
            "\u001b[0;31mTypeError\u001b[0m: show_args() got an unexpected keyword argument 'a'"
          ]
        }
      ],
      "source": [
        "def show_args(*args):\n",
        "    print(args)\n",
        "show_args(a=5,b=6)"
      ]
    },
    {
      "cell_type": "code",
      "execution_count": null,
      "id": "7df93f88",
      "metadata": {
        "id": "7df93f88",
        "outputId": "dcfe9e7b-2da7-4d45-9688-bdca1953cef1"
      },
      "outputs": [
        {
          "name": "stdout",
          "output_type": "stream",
          "text": [
            "(2, 3, 4)\n"
          ]
        }
      ],
      "source": [
        "show_args(2,3,4)"
      ]
    },
    {
      "cell_type": "code",
      "execution_count": null,
      "id": "316648b0",
      "metadata": {
        "id": "316648b0",
        "outputId": "7e4e1e88-9ec3-43d2-e622-a59b2c7c9932"
      },
      "outputs": [
        {
          "name": "stdout",
          "output_type": "stream",
          "text": [
            "6\n"
          ]
        }
      ],
      "source": [
        "def my_sum(*integer1):\n",
        "    result=0\n",
        "    for x in integer1:\n",
        "        result+=x\n",
        "    return result\n",
        "print(my_sum(1,2,3))\n",
        "        "
      ]
    },
    {
      "cell_type": "code",
      "execution_count": null,
      "id": "81dfa76a",
      "metadata": {
        "id": "81dfa76a",
        "outputId": "b7599e63-423a-447b-e8c4-acba1e738f0a"
      },
      "outputs": [
        {
          "data": {
            "image/jpeg": "[encoded data removed]",
            "text/html": [
              "\n",
              "        <iframe\n",
              "            width=\"400\"\n",
              "            height=\"300\"\n",
              "            src=\"https://www.youtube.com/embed/qYxGmzVbvkc\"\n",
              "            frameborder=\"0\"\n",
              "            allowfullscreen\n",
              "            \n",
              "        ></iframe>\n",
              "        "
            ],
            "text/plain": [
              "<IPython.lib.display.YouTubeVideo at 0x7fcac2a956d0>"
            ]
          },
          "execution_count": 41,
          "metadata": {},
          "output_type": "execute_result"
        }
      ],
      "source": [
        "from IPython.display import YouTubeVideo\n",
        "YouTubeVideo('qYxGmzVbvkc')"
      ]
    },
    {
      "cell_type": "code",
      "execution_count": null,
      "id": "59f07c85",
      "metadata": {
        "id": "59f07c85"
      },
      "outputs": [],
      "source": []
    }
  ],
  "metadata": {
    "kernelspec": {
      "display_name": "Python 3 (ipykernel)",
      "language": "python",
      "name": "python3"
    },
    "language_info": {
      "codemirror_mode": {
        "name": "ipython",
        "version": 3
      },
      "file_extension": ".py",
      "mimetype": "text/x-python",
      "name": "python",
      "nbconvert_exporter": "python",
      "pygments_lexer": "ipython3",
      "version": "3.9.12"
    },
    "colab": {
      "provenance": [],
      "include_colab_link": true
    }
  },
  "nbformat": 4,
  "nbformat_minor": 5
}