{
  "cells": [
    {
      "cell_type": "markdown",
      "metadata": {
        "id": "view-in-github",
        "colab_type": "text"
      },
      "source": [
        "<a href=\"https://colab.research.google.com/github/superlui04/Python_CrashCourse/blob/main/Demo2.ipynb\" target=\"_parent\"><img src=\"https://colab.research.google.com/assets/colab-badge.svg\" alt=\"Open In Colab\"/></a>"
      ]
    },
    {
      "cell_type": "markdown",
      "id": "dca5daac",
      "metadata": {
        "id": "dca5daac"
      },
      "source": [
        "# Comparison Operators"
      ]
    },
    {
      "cell_type": "code",
      "execution_count": null,
      "id": "84afff80",
      "metadata": {
        "id": "84afff80",
        "outputId": "b01873d3-320f-43ee-e0ca-00bf982847df"
      },
      "outputs": [
        {
          "data": {
            "text/plain": [
              "False"
            ]
          },
          "execution_count": 20,
          "metadata": {},
          "output_type": "execute_result"
        }
      ],
      "source": [
        "x=2\n",
        "y=4\n",
        "x==y\n"
      ]
    },
    {
      "cell_type": "code",
      "execution_count": null,
      "id": "36fc728c",
      "metadata": {
        "scrolled": true,
        "id": "36fc728c",
        "outputId": "e52f36f8-913b-49e6-db4b-323d54938db6"
      },
      "outputs": [
        {
          "data": {
            "text/plain": [
              "False"
            ]
          },
          "execution_count": 11,
          "metadata": {},
          "output_type": "execute_result"
        }
      ],
      "source": [
        "x>y"
      ]
    },
    {
      "cell_type": "code",
      "execution_count": null,
      "id": "b76eb5e5",
      "metadata": {
        "scrolled": true,
        "id": "b76eb5e5",
        "outputId": "02d30280-ea44-478e-bffc-4462824259f9"
      },
      "outputs": [
        {
          "data": {
            "text/plain": [
              "True"
            ]
          },
          "execution_count": 13,
          "metadata": {},
          "output_type": "execute_result"
        }
      ],
      "source": [
        "x<y"
      ]
    },
    {
      "cell_type": "code",
      "execution_count": null,
      "id": "7a73cba2",
      "metadata": {
        "id": "7a73cba2",
        "outputId": "34c999e0-f507-4f94-93c0-f0edc64a3121"
      },
      "outputs": [
        {
          "data": {
            "text/plain": [
              "False"
            ]
          },
          "execution_count": 16,
          "metadata": {},
          "output_type": "execute_result"
        }
      ],
      "source": [
        "x!=y"
      ]
    },
    {
      "cell_type": "code",
      "execution_count": null,
      "id": "9a63d596",
      "metadata": {
        "id": "9a63d596",
        "outputId": "51724c47-412a-47ac-eed9-9fdcdc3d672b"
      },
      "outputs": [
        {
          "data": {
            "text/plain": [
              "True"
            ]
          },
          "execution_count": 19,
          "metadata": {},
          "output_type": "execute_result"
        }
      ],
      "source": [
        "x==y"
      ]
    },
    {
      "cell_type": "code",
      "execution_count": null,
      "id": "d28bdf8c",
      "metadata": {
        "id": "d28bdf8c",
        "outputId": "c7210c97-b0c6-4722-9c41-9a863daa5dd9"
      },
      "outputs": [
        {
          "data": {
            "text/plain": [
              "False"
            ]
          },
          "execution_count": 21,
          "metadata": {},
          "output_type": "execute_result"
        }
      ],
      "source": [
        "x>=y"
      ]
    },
    {
      "cell_type": "code",
      "execution_count": null,
      "id": "2fabbd8a",
      "metadata": {
        "id": "2fabbd8a",
        "outputId": "739bb1c9-57fb-4015-c010-2468913ddef5"
      },
      "outputs": [
        {
          "data": {
            "text/plain": [
              "False"
            ]
          },
          "execution_count": 22,
          "metadata": {},
          "output_type": "execute_result"
        }
      ],
      "source": [
        "y<=x"
      ]
    },
    {
      "cell_type": "code",
      "execution_count": null,
      "id": "933c3120",
      "metadata": {
        "id": "933c3120",
        "outputId": "e7217eb0-f635-48a0-8640-5deeff7a6eb3"
      },
      "outputs": [
        {
          "data": {
            "text/plain": [
              "True"
            ]
          },
          "execution_count": 23,
          "metadata": {},
          "output_type": "execute_result"
        }
      ],
      "source": [
        "y>=x"
      ]
    },
    {
      "cell_type": "code",
      "execution_count": null,
      "id": "e838e77f",
      "metadata": {
        "id": "e838e77f"
      },
      "outputs": [],
      "source": [
        "#Note that == is a comparison operator, while = is an assignment operator"
      ]
    },
    {
      "cell_type": "markdown",
      "id": "715f065f",
      "metadata": {
        "id": "715f065f"
      },
      "source": [
        "# Chained Comparison Operators"
      ]
    },
    {
      "cell_type": "code",
      "execution_count": null,
      "id": "3a05c7e1",
      "metadata": {
        "id": "3a05c7e1",
        "outputId": "83c5a458-94a6-4c73-c716-a6a6de45ed72"
      },
      "outputs": [
        {
          "data": {
            "text/plain": [
              "True"
            ]
          },
          "execution_count": 24,
          "metadata": {},
          "output_type": "execute_result"
        }
      ],
      "source": [
        "1<2<3"
      ]
    },
    {
      "cell_type": "code",
      "execution_count": null,
      "id": "0fd0525c",
      "metadata": {
        "id": "0fd0525c",
        "outputId": "de982acd-1719-4105-98d4-ba113ec7d907"
      },
      "outputs": [
        {
          "data": {
            "text/plain": [
              "True"
            ]
          },
          "execution_count": 25,
          "metadata": {},
          "output_type": "execute_result"
        }
      ],
      "source": [
        "1<2 and 2<3"
      ]
    },
    {
      "cell_type": "code",
      "execution_count": null,
      "id": "5dcb466f",
      "metadata": {
        "id": "5dcb466f",
        "outputId": "1d88e3f3-2d56-48fc-e72b-52fcd9722e08"
      },
      "outputs": [
        {
          "data": {
            "text/plain": [
              "True"
            ]
          },
          "execution_count": 26,
          "metadata": {},
          "output_type": "execute_result"
        }
      ],
      "source": [
        "1<3>2"
      ]
    },
    {
      "cell_type": "code",
      "execution_count": null,
      "id": "0b1a86fc",
      "metadata": {
        "id": "0b1a86fc",
        "outputId": "c04468fd-5ba0-49d2-c136-b26326ba15ca"
      },
      "outputs": [
        {
          "data": {
            "text/plain": [
              "True"
            ]
          },
          "execution_count": 27,
          "metadata": {},
          "output_type": "execute_result"
        }
      ],
      "source": [
        "1==2 or 2<3"
      ]
    },
    {
      "cell_type": "code",
      "execution_count": null,
      "id": "0ed94383",
      "metadata": {
        "id": "0ed94383",
        "outputId": "bd5ac9f5-3991-4817-8e95-022dcd7b7514"
      },
      "outputs": [
        {
          "data": {
            "text/plain": [
              "True"
            ]
          },
          "execution_count": 28,
          "metadata": {},
          "output_type": "execute_result"
        }
      ],
      "source": [
        "1==1 or 100==1"
      ]
    },
    {
      "cell_type": "markdown",
      "id": "f14a690d",
      "metadata": {
        "id": "f14a690d"
      },
      "source": [
        "# Control Flow of Python"
      ]
    },
    {
      "cell_type": "code",
      "execution_count": null,
      "id": "77bb2827",
      "metadata": {
        "scrolled": true,
        "id": "77bb2827",
        "outputId": "21334546-fd0b-4b70-9b99-f14bda61b8e3"
      },
      "outputs": [
        {
          "name": "stdout",
          "output_type": "stream",
          "text": [
            "yes\n"
          ]
        }
      ],
      "source": [
        "if True:\n",
        "    print('yes')"
      ]
    },
    {
      "cell_type": "code",
      "execution_count": null,
      "id": "5027d3df",
      "metadata": {
        "id": "5027d3df"
      },
      "outputs": [],
      "source": [
        "if False:\n",
        "    print('no')"
      ]
    },
    {
      "cell_type": "code",
      "execution_count": null,
      "id": "ef707962",
      "metadata": {
        "id": "ef707962"
      },
      "outputs": [],
      "source": [
        "if (1==5):\n",
        "    print('true')\n",
        "elif (2!=2):\n",
        "    print('yes')\n",
        "else:\n",
        "    print('hi')\n",
        "    "
      ]
    },
    {
      "cell_type": "code",
      "execution_count": null,
      "id": "6f8cf14f",
      "metadata": {
        "id": "6f8cf14f",
        "outputId": "548678ca-d4dd-4a04-e5a2-2d35e26c3171"
      },
      "outputs": [
        {
          "name": "stdout",
          "output_type": "stream",
          "text": [
            "yes\n"
          ]
        }
      ],
      "source": [
        "if (1==3):\n",
        "    print('true')\n",
        "elif (2!=3):\n",
        "    print('yes')"
      ]
    },
    {
      "cell_type": "markdown",
      "id": "8966720f",
      "metadata": {
        "id": "8966720f"
      },
      "source": [
        "# for loops"
      ]
    },
    {
      "cell_type": "code",
      "execution_count": null,
      "id": "37ad0ff1",
      "metadata": {
        "id": "37ad0ff1"
      },
      "outputs": [],
      "source": [
        "seq=[10,20,30,40,50]"
      ]
    },
    {
      "cell_type": "code",
      "execution_count": null,
      "id": "45949335",
      "metadata": {
        "id": "45949335",
        "outputId": "3557facf-e630-44ca-84f6-46a38a1edeaf"
      },
      "outputs": [
        {
          "name": "stdout",
          "output_type": "stream",
          "text": [
            "hi\n",
            "hi\n",
            "hi\n",
            "hi\n",
            "hi\n"
          ]
        }
      ],
      "source": [
        "for item in seq:\n",
        "    print('hi')"
      ]
    },
    {
      "cell_type": "code",
      "execution_count": null,
      "id": "5f9f590b",
      "metadata": {
        "id": "5f9f590b",
        "outputId": "c8a82af5-01ea-4faf-f7a0-d6222282fdf5"
      },
      "outputs": [
        {
          "name": "stdout",
          "output_type": "stream",
          "text": [
            "20\n",
            "40\n",
            "60\n",
            "80\n",
            "100\n"
          ]
        }
      ],
      "source": [
        "for num in seq:\n",
        "    print(num*2)"
      ]
    },
    {
      "cell_type": "markdown",
      "id": "2821b782",
      "metadata": {
        "id": "2821b782"
      },
      "source": [
        "# While Loops"
      ]
    },
    {
      "cell_type": "code",
      "execution_count": null,
      "id": "b1fa62e4",
      "metadata": {
        "id": "b1fa62e4",
        "outputId": "4c40e946-9b15-454a-d104-cb8a6435b580"
      },
      "outputs": [
        {
          "name": "stdout",
          "output_type": "stream",
          "text": [
            "i is currently 1\n",
            "i is currently 2\n",
            "i is currently 3\n",
            "i is currently 4\n"
          ]
        }
      ],
      "source": [
        "i=1\n",
        "while i<5:\n",
        "    print ('i is currently {}'.format(i))\n",
        "    i=i+1"
      ]
    },
    {
      "cell_type": "code",
      "execution_count": null,
      "id": "88d88a2e",
      "metadata": {
        "id": "88d88a2e",
        "outputId": "5c068038-6ee0-4cde-9622-25bcdbddb17f"
      },
      "outputs": [
        {
          "data": {
            "text/plain": [
              "range(0, 5)"
            ]
          },
          "execution_count": 48,
          "metadata": {},
          "output_type": "execute_result"
        }
      ],
      "source": [
        "range(5)"
      ]
    },
    {
      "cell_type": "code",
      "execution_count": null,
      "id": "2263ed92",
      "metadata": {
        "id": "2263ed92",
        "outputId": "8117ec47-b9cb-492a-83e8-cc2bd2cd9140"
      },
      "outputs": [
        {
          "name": "stdout",
          "output_type": "stream",
          "text": [
            "item currently is 0\n",
            "item currently is 1\n",
            "item currently is 2\n",
            "item currently is 3\n",
            "item currently is 4\n"
          ]
        }
      ],
      "source": [
        "for item in range(5):\n",
        "    print ('item currently is {}'.format(item))"
      ]
    },
    {
      "cell_type": "code",
      "execution_count": null,
      "id": "a2d3128c",
      "metadata": {
        "id": "a2d3128c",
        "outputId": "5771611d-312c-444b-bd65-f7407497410b"
      },
      "outputs": [
        {
          "data": {
            "text/plain": [
              "[1, 2, 3, 4, 5, 6, 7, 8, 9, 10]"
            ]
          },
          "execution_count": 51,
          "metadata": {},
          "output_type": "execute_result"
        }
      ],
      "source": [
        "list(range(1,11))"
      ]
    },
    {
      "cell_type": "markdown",
      "id": "0751c4e6",
      "metadata": {
        "id": "0751c4e6"
      },
      "source": [
        "# List Comprehension"
      ]
    },
    {
      "cell_type": "code",
      "execution_count": null,
      "id": "f7804ed9",
      "metadata": {
        "id": "f7804ed9",
        "outputId": "5d9b5078-8974-4dd2-d485-f98b1e72b103"
      },
      "outputs": [
        {
          "data": {
            "text/plain": [
              "[1, 4, 9, 16]"
            ]
          },
          "execution_count": 52,
          "metadata": {},
          "output_type": "execute_result"
        }
      ],
      "source": [
        "x=[1,2,3,4]\n",
        "out=[]\n",
        "for num in x:\n",
        "    out.append(num**2)\n",
        "out"
      ]
    },
    {
      "cell_type": "code",
      "execution_count": null,
      "id": "13d0dc43",
      "metadata": {
        "id": "13d0dc43",
        "outputId": "f7805831-2909-4253-dd1a-6a570ebb46c7"
      },
      "outputs": [
        {
          "data": {
            "text/plain": [
              "[1, 4, 9, 16]"
            ]
          },
          "execution_count": 53,
          "metadata": {},
          "output_type": "execute_result"
        }
      ],
      "source": [
        "x=[1,2,3,4]\n",
        "[num**2 for num in x]\n"
      ]
    },
    {
      "cell_type": "code",
      "execution_count": null,
      "id": "4939dc12",
      "metadata": {
        "id": "4939dc12"
      },
      "outputs": [],
      "source": []
    }
  ],
  "metadata": {
    "kernelspec": {
      "display_name": "Python 3 (ipykernel)",
      "language": "python",
      "name": "python3"
    },
    "language_info": {
      "codemirror_mode": {
        "name": "ipython",
        "version": 3
      },
      "file_extension": ".py",
      "mimetype": "text/x-python",
      "name": "python",
      "nbconvert_exporter": "python",
      "pygments_lexer": "ipython3",
      "version": "3.9.12"
    },
    "colab": {
      "provenance": [],
      "include_colab_link": true
    }
  },
  "nbformat": 4,
  "nbformat_minor": 5
}