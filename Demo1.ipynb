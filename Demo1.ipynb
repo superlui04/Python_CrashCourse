{
  "cells": [
    {
      "cell_type": "markdown",
      "metadata": {
        "id": "view-in-github",
        "colab_type": "text"
      },
      "source": [
        "<a href=\"https://colab.research.google.com/github/superlui04/Python_CrashCourse/blob/main/Demo1.ipynb\" target=\"_parent\"><img src=\"https://colab.research.google.com/assets/colab-badge.svg\" alt=\"Open In Colab\"/></a>"
      ]
    },
    {
      "cell_type": "markdown",
      "id": "85727800",
      "metadata": {
        "id": "85727800"
      },
      "source": [
        "<B> Day 2: Python Object and Data Structure Basics </B>"
      ]
    },
    {
      "cell_type": "code",
      "execution_count": null,
      "id": "d1d3439d",
      "metadata": {
        "id": "d1d3439d"
      },
      "outputs": [],
      "source": [
        "# 1.) Types of Numbers\n",
        "# 2.) Basic Arithmetic\n",
        "# 3.) Difference between classic division and floor division\n",
        "# 4.) Object Assignment in Python"
      ]
    },
    {
      "cell_type": "code",
      "execution_count": null,
      "id": "381f9af2",
      "metadata": {
        "colab": {
          "base_uri": "https://localhost:8080/"
        },
        "id": "381f9af2",
        "outputId": "e0e3ac09-27f1-4e96-a3af-ba7c942347d7"
      },
      "outputs": [
        {
          "output_type": "execute_result",
          "data": {
            "text/plain": [
              "3"
            ]
          },
          "metadata": {},
          "execution_count": 1
        }
      ],
      "source": [
        "2+1"
      ]
    },
    {
      "cell_type": "code",
      "execution_count": null,
      "id": "c9966a16",
      "metadata": {
        "id": "c9966a16",
        "outputId": "b2f0e95c-4ab1-4970-b021-97bcb0d3ca89"
      },
      "outputs": [
        {
          "data": {
            "text/plain": [
              "1.5"
            ]
          },
          "execution_count": 3,
          "metadata": {},
          "output_type": "execute_result"
        }
      ],
      "source": [
        "3/2"
      ]
    },
    {
      "cell_type": "code",
      "execution_count": null,
      "id": "7920f399",
      "metadata": {
        "id": "7920f399",
        "outputId": "aae7628d-1da2-4fd7-ea68-107aab321b2f"
      },
      "outputs": [
        {
          "data": {
            "text/plain": [
              "1"
            ]
          },
          "execution_count": 4,
          "metadata": {},
          "output_type": "execute_result"
        }
      ],
      "source": [
        "#Floor Division\n",
        "7//4"
      ]
    },
    {
      "cell_type": "code",
      "execution_count": null,
      "id": "342a073b",
      "metadata": {
        "id": "342a073b",
        "outputId": "e41544fb-7cce-4c6f-ba35-65b5b0a09fb2"
      },
      "outputs": [
        {
          "data": {
            "text/plain": [
              "3"
            ]
          },
          "execution_count": 5,
          "metadata": {},
          "output_type": "execute_result"
        }
      ],
      "source": [
        "#Modulo\n",
        "7%4"
      ]
    },
    {
      "cell_type": "code",
      "execution_count": null,
      "id": "22b79888",
      "metadata": {
        "id": "22b79888",
        "outputId": "43c415cf-82d8-4c20-e655-680a169150b2"
      },
      "outputs": [
        {
          "data": {
            "text/plain": [
              "8"
            ]
          },
          "execution_count": 7,
          "metadata": {},
          "output_type": "execute_result"
        }
      ],
      "source": [
        "#Powers\n",
        "2**3"
      ]
    },
    {
      "cell_type": "code",
      "execution_count": null,
      "id": "50561efd",
      "metadata": {
        "id": "50561efd",
        "outputId": "99daa664-8f4d-4bb4-e6d7-ae093568e60c"
      },
      "outputs": [
        {
          "data": {
            "text/plain": [
              "2.0"
            ]
          },
          "execution_count": 8,
          "metadata": {},
          "output_type": "execute_result"
        }
      ],
      "source": [
        "4**0.5"
      ]
    },
    {
      "cell_type": "code",
      "execution_count": null,
      "id": "9719c1c9",
      "metadata": {
        "id": "9719c1c9",
        "outputId": "15260f7c-7aae-4406-88df-3a5d2c7968f2"
      },
      "outputs": [
        {
          "data": {
            "text/plain": [
              "105"
            ]
          },
          "execution_count": 9,
          "metadata": {},
          "output_type": "execute_result"
        }
      ],
      "source": [
        "2+10*10+3"
      ]
    },
    {
      "cell_type": "code",
      "execution_count": null,
      "id": "37dca9b8",
      "metadata": {
        "colab": {
          "base_uri": "https://localhost:8080/"
        },
        "id": "37dca9b8",
        "outputId": "bb78f19b-6ac9-4a28-d40d-d42c3932ae68"
      },
      "outputs": [
        {
          "output_type": "execute_result",
          "data": {
            "text/plain": [
              "10"
            ]
          },
          "metadata": {},
          "execution_count": 4
        }
      ],
      "source": [
        "a=5\n",
        "b=2\n",
        "a*b"
      ]
    },
    {
      "cell_type": "code",
      "execution_count": null,
      "id": "aa94605d",
      "metadata": {
        "colab": {
          "base_uri": "https://localhost:8080/"
        },
        "id": "aa94605d",
        "outputId": "5f517751-7be2-48eb-ab92-6eab225d31a8"
      },
      "outputs": [
        {
          "output_type": "execute_result",
          "data": {
            "text/plain": [
              "7"
            ]
          },
          "metadata": {},
          "execution_count": 5
        }
      ],
      "source": [
        "a+b"
      ]
    },
    {
      "cell_type": "code",
      "execution_count": null,
      "id": "aa58ce5c",
      "metadata": {
        "colab": {
          "base_uri": "https://localhost:8080/"
        },
        "id": "aa58ce5c",
        "outputId": "1317c82b-9f99-4e0d-af70-1bce884c1e6b"
      },
      "outputs": [
        {
          "output_type": "execute_result",
          "data": {
            "text/plain": [
              "15"
            ]
          },
          "metadata": {},
          "execution_count": 6
        }
      ],
      "source": [
        "#Reassigning Variables\n",
        "\n",
        "a=a+10\n",
        "a"
      ]
    },
    {
      "cell_type": "code",
      "execution_count": null,
      "id": "bca2db54",
      "metadata": {
        "id": "bca2db54"
      },
      "outputs": [],
      "source": [
        "my_income=100\n",
        "\n",
        "tax_rate=0.1\n",
        "\n",
        "my_taxes=my_income * tax_rate"
      ]
    },
    {
      "cell_type": "code",
      "execution_count": null,
      "id": "b5985b92",
      "metadata": {
        "id": "b5985b92",
        "outputId": "fa79fcac-c3b0-4206-bdca-0d63200b9c82"
      },
      "outputs": [
        {
          "data": {
            "text/plain": [
              "10.0"
            ]
          },
          "execution_count": 14,
          "metadata": {},
          "output_type": "execute_result"
        }
      ],
      "source": [
        "my_taxes"
      ]
    },
    {
      "cell_type": "code",
      "execution_count": null,
      "id": "3d1cf1d3",
      "metadata": {
        "id": "3d1cf1d3",
        "outputId": "fc17ec09-ef79-4af5-c77f-84cb6f29f644"
      },
      "outputs": [
        {
          "data": {
            "text/plain": [
              "int"
            ]
          },
          "execution_count": 20,
          "metadata": {},
          "output_type": "execute_result"
        }
      ],
      "source": [
        "type(a)"
      ]
    },
    {
      "cell_type": "code",
      "execution_count": null,
      "id": "4065d62d",
      "metadata": {
        "id": "4065d62d"
      },
      "outputs": [],
      "source": [
        "a=(1,2)"
      ]
    },
    {
      "cell_type": "code",
      "execution_count": null,
      "id": "d5c8007c",
      "metadata": {
        "id": "d5c8007c",
        "outputId": "a3902551-4ecd-4414-d40e-47a8f7f6d45c"
      },
      "outputs": [
        {
          "data": {
            "text/plain": [
              "tuple"
            ]
          },
          "execution_count": 23,
          "metadata": {},
          "output_type": "execute_result"
        }
      ],
      "source": [
        "type(a)"
      ]
    },
    {
      "cell_type": "code",
      "execution_count": null,
      "id": "4e735914",
      "metadata": {
        "id": "4e735914",
        "outputId": "93afa8ef-ae5e-4a32-d2ec-f2beac03d38f"
      },
      "outputs": [
        {
          "data": {
            "text/plain": [
              "'hello'"
            ]
          },
          "execution_count": 24,
          "metadata": {},
          "output_type": "execute_result"
        }
      ],
      "source": [
        " #String\n",
        "    \n",
        "    \n",
        "#single word\n",
        "\"hello\""
      ]
    },
    {
      "cell_type": "code",
      "execution_count": null,
      "id": "86149784",
      "metadata": {
        "id": "86149784",
        "outputId": "74c67746-07c8-4fe9-8300-fde9d1488a6d"
      },
      "outputs": [
        {
          "data": {
            "text/plain": [
              "'This is also a string'"
            ]
          },
          "execution_count": 25,
          "metadata": {},
          "output_type": "execute_result"
        }
      ],
      "source": [
        "#entire phrase\n",
        "'This is also a string'"
      ]
    },
    {
      "cell_type": "code",
      "execution_count": null,
      "id": "de910f57",
      "metadata": {
        "id": "de910f57",
        "outputId": "10c1b6e2-8358-4ca6-a219-353f12b3168c"
      },
      "outputs": [
        {
          "data": {
            "text/plain": [
              "'String built with double quotes'"
            ]
          },
          "execution_count": 26,
          "metadata": {},
          "output_type": "execute_result"
        }
      ],
      "source": [
        "\"String built with double quotes\""
      ]
    },
    {
      "cell_type": "code",
      "execution_count": null,
      "id": "c1c86a73",
      "metadata": {
        "id": "c1c86a73",
        "outputId": "f2ff2063-b82a-43b8-aa82-5a3e7f86f73f"
      },
      "outputs": [
        {
          "data": {
            "text/plain": [
              "'Hello World 2'"
            ]
          },
          "execution_count": 27,
          "metadata": {},
          "output_type": "execute_result"
        }
      ],
      "source": [
        "'Hello World 1'\n",
        "'Hello World 2'"
      ]
    },
    {
      "cell_type": "code",
      "execution_count": null,
      "id": "37c45cc4",
      "metadata": {
        "id": "37c45cc4",
        "outputId": "4d817545-5147-4996-a4a3-f38bda042e79"
      },
      "outputs": [
        {
          "name": "stdout",
          "output_type": "stream",
          "text": [
            "Hello World 1\n",
            "Hello World 2\n"
          ]
        }
      ],
      "source": [
        "print('Hello World 1')\n",
        "print('Hello World 2')"
      ]
    },
    {
      "cell_type": "code",
      "execution_count": null,
      "id": "ecd6c25f",
      "metadata": {
        "id": "ecd6c25f",
        "outputId": "f67dbe62-059c-49e8-e623-d8364af804c6"
      },
      "outputs": [
        {
          "data": {
            "text/plain": [
              "13"
            ]
          },
          "execution_count": 29,
          "metadata": {},
          "output_type": "execute_result"
        }
      ],
      "source": [
        "len('Hello World 1')"
      ]
    },
    {
      "cell_type": "code",
      "execution_count": null,
      "id": "4b761397",
      "metadata": {
        "id": "4b761397"
      },
      "outputs": [],
      "source": []
    }
  ],
  "metadata": {
    "kernelspec": {
      "display_name": "Python 3 (ipykernel)",
      "language": "python",
      "name": "python3"
    },
    "language_info": {
      "codemirror_mode": {
        "name": "ipython",
        "version": 3
      },
      "file_extension": ".py",
      "mimetype": "text/x-python",
      "name": "python",
      "nbconvert_exporter": "python",
      "pygments_lexer": "ipython3",
      "version": "3.9.13"
    },
    "colab": {
      "provenance": [],
      "include_colab_link": true
    }
  },
  "nbformat": 4,
  "nbformat_minor": 5
}